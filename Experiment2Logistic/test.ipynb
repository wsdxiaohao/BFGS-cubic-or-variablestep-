{
 "cells": [
  {
   "cell_type": "markdown",
   "id": "964d3b39",
   "metadata": {},
   "source": [
    "### Logistic problem\n",
    "### $$ \\min_x \\frac{1}{M} \\sum_{i=1}^{M}\\log[1+\\exp{(-b_ia_i^\\top x)}]+\\frac{\\mu}{2}\\vert\\vert x\\vert\\vert^2 $$\n",
    "### where $a_1, a_2, \\cdots, a_m\\in R^n$, $b_1, b_2, \\cdots, b_m\\in R$ and $\\gamma>0$. We notice that the Lipschitz constant $L=$  "
   ]
  },
  {
   "cell_type": "code",
   "execution_count": null,
   "id": "186b6cb6",
   "metadata": {},
   "outputs": [],
   "source": [
    "# First we import some useful packages. Don't import any other package.\n",
    "import numpy as np\n",
    "import matplotlib.pyplot as plt\n",
    "import time as clock"
   ]
  },
  {
   "cell_type": "code",
   "execution_count": null,
   "id": "42ca1005",
   "metadata": {},
   "outputs": [],
   "source": [
    "from libsvm.svmutil import *"
   ]
  },
  {
   "cell_type": "code",
   "execution_count": null,
   "id": "dc9ddf93",
   "metadata": {},
   "outputs": [],
   "source": [
    "name = \"svmguide1\""
   ]
  },
  {
   "cell_type": "code",
   "execution_count": null,
   "id": "80ac04f6",
   "metadata": {},
   "outputs": [],
   "source": [
    "from sklearn.datasets import load_svmlight_file\n",
    "import numpy as np\n",
    "\n",
    "x_sparse, y = load_svmlight_file(name+\".txt\")\n",
    "x = x_sparse.toarray()  # Convert to dense numpy array\n",
    "\n",
    "print(\"Features:\", x)\n",
    "print(\"Labels:\", y)\n"
   ]
  },
  {
   "cell_type": "code",
   "execution_count": null,
   "id": "3be39b0a",
   "metadata": {},
   "outputs": [],
   "source": [
    "np.max(x)"
   ]
  },
  {
   "cell_type": "code",
   "execution_count": null,
   "id": "8a4884e1",
   "metadata": {},
   "outputs": [],
   "source": [
    "A=x"
   ]
  },
  {
   "cell_type": "code",
   "execution_count": null,
   "id": "1b7a4d37",
   "metadata": {},
   "outputs": [],
   "source": [
    "b = y\n",
    "b = b.reshape((len(b),1))"
   ]
  },
  {
   "cell_type": "code",
   "execution_count": null,
   "id": "b5019aef",
   "metadata": {},
   "outputs": [],
   "source": [
    "len(A)"
   ]
  },
  {
   "cell_type": "markdown",
   "id": "01180266",
   "metadata": {},
   "source": [
    "### Initialization of the model"
   ]
  },
  {
   "cell_type": "code",
   "execution_count": null,
   "id": "f473be3f",
   "metadata": {},
   "outputs": [],
   "source": [
    "\n"
   ]
  },
  {
   "cell_type": "code",
   "execution_count": null,
   "id": "b16c1f9c",
   "metadata": {},
   "outputs": [],
   "source": [
    "mu = 0.01"
   ]
  },
  {
   "cell_type": "code",
   "execution_count": null,
   "id": "0c3cff98",
   "metadata": {},
   "outputs": [],
   "source": [
    "np.random.seed(1)\n",
    "x0 = 1*np.random.randn(len(A[0]),1)"
   ]
  },
  {
   "cell_type": "code",
   "execution_count": null,
   "id": "0a2878fe",
   "metadata": {},
   "outputs": [],
   "source": [
    "M = len(A)\n",
    "#L = 2*np.trace(A@A.T)/M+ mu\n",
    "L = 2*np.trace(A.T@A)/M+ mu\n",
    "#L = 2*np.max(np.diag(A@A.T)) + mu\n",
    "stepsize = 1/(L)#1/2L\n",
    "H = 2\n",
    "Model = {'A':A, 'b':b, 'mu':mu,'x':x0,'Lip':L,'H':2};\n",
    "options= {'stepsize':stepsize}"
   ]
  },
  {
   "cell_type": "code",
   "execution_count": null,
   "id": "bda3a2ff",
   "metadata": {},
   "outputs": [],
   "source": []
  },
  {
   "cell_type": "code",
   "execution_count": null,
   "id": "9a9582ef",
   "metadata": {},
   "outputs": [],
   "source": []
  },
  {
   "cell_type": "markdown",
   "id": "c77974eb",
   "metadata": {},
   "source": [
    "### Algorithm"
   ]
  },
  {
   "cell_type": "code",
   "execution_count": null,
   "id": "8403c136",
   "metadata": {},
   "outputs": [],
   "source": [
    "#Load \n",
    "from Mathtools import *\n",
    "from gradNewton import *\n",
    "from HBF import *\n",
    "from CubicNewton import *\n",
    "from CubicBFGS import *\n",
    "from VarStep_BFGS import *\n",
    "from gd import *"
   ]
  },
  {
   "cell_type": "code",
   "execution_count": null,
   "id": "ab8b1d08",
   "metadata": {},
   "outputs": [],
   "source": [
    "Model['Lip'] = L"
   ]
  },
  {
   "cell_type": "code",
   "execution_count": null,
   "id": "e46a5b17",
   "metadata": {},
   "outputs": [],
   "source": [
    "#test\n",
    "maxiter = 10000#300;#500\n",
    "check = 10\n",
    "tol = 1e-8;\n",
    "\n",
    "# taping:\n",
    "xs = [];\n",
    "rs = [];\n",
    "fs = [];\n",
    "ts = [];\n",
    "cols = [];\n",
    "legs = [];\n",
    "\n",
    "nams = [];\n",
    "\n",
    "# colors for the image\n",
    "COLSR1 = [(1,0,0,1), (1,0.5,0,1), (1,0,0.5,1), (0,0.5,0.5,1), (0.5,0.5,0,1) ]\n",
    "COLBFGS =  [(0.3,0.7,0,1), (0.7,0.2,0.3,1), (0,0,0,1), (0.5,0,0.2,1), (0.2,0.2,0.7,1) ]"
   ]
  },
  {
   "cell_type": "code",
   "execution_count": null,
   "id": "1287e754",
   "metadata": {},
   "outputs": [],
   "source": [
    "# turn algorithms to be run on or off\n",
    "run_Cubic_Newton = 1;\n",
    "run_VarStep_BFGS = 1;\n",
    "run_Cubic_BFGS = 1;\n",
    "run_grad_Newton = 1; #grad SR1 ad\n",
    "run_HBF = 1\n",
    "run_gd = 1\n",
    "#with open(name+'starting_point.npy', 'rb') as f:#U\n",
    "#      x1= np.load(f)\n",
    "np.random.seed(1)\n",
    "x0 = 0.0*np.random.randn(len(A[0,:]),1)#x1\n",
    "Model['x'] =x0\n",
    "compute_starting_point = False;\n",
    "\n",
    "\n",
    "#TOl\n",
    "tol = 1e-8\n",
    "if compute_starting_point: # optimal solution is compyted using FISTA\n",
    "    maxiter =500;\n",
    "    check = 1;\n",
    "    Model['x'] =0*np.random.randn(len(A[0,:]),1)\n",
    "    run_VarStep_BFGS = 0; #grad SR1 ad\n",
    "    run_gd = 0\n",
    "    run_Cubic_Newton = 0;\n",
    "    run_grad_Newton = 0;\n",
    "    run_Cubic_BFGS = 0;\n",
    "\n",
    "    run_VarStep_BFGS = 0; #grad SR1 ad\n",
    "    run_HBF = 0\n",
    "    run_gd = 1\n",
    "    \n",
    "    \n",
    "    "
   ]
  },
  {
   "cell_type": "code",
   "execution_count": null,
   "id": "1ef01650",
   "metadata": {},
   "outputs": [],
   "source": [
    "#####################################################################\n",
    "if run_Cubic_Newton:\n",
    "    \n",
    "    print('');\n",
    "    print('********************************************************');\n",
    "    print('***Cubic Newton **');\n",
    "    print('***********');\n",
    "    \n",
    "    options = {\n",
    "        'init':          x0,\n",
    "        'stepsize':      stepsize,\n",
    "        'storeResidual': True,\n",
    "        'storePoints'  : False,\n",
    "        'storeObjective':True,\n",
    "        'correction':  True,\n",
    "        \n",
    "    }\n",
    "\n",
    "   \n",
    "    \n",
    "    output = Cubic_Newton(Model, options, tol, maxiter, check);\n",
    "    xs.append(output['sol']);\n",
    "    rs.append(output['seq_res']);\n",
    "    ts.append(output['seq_time'])\n",
    "    fs.append(output['seq_fun']);\n",
    "    cols.append((0.1,0.1,0.6,1));\n",
    "    legs.append('Cubic Newton');\n",
    "    nams.append('Cubic Newton');"
   ]
  },
  {
   "cell_type": "code",
   "execution_count": null,
   "id": "ea7f0844",
   "metadata": {},
   "outputs": [],
   "source": [
    "#####################################################################\n",
    "if run_grad_Newton:\n",
    "    \n",
    "    print('');\n",
    "    print('********************************************************');\n",
    "    print('***Grad Newton **');\n",
    "    print('***********');\n",
    "    \n",
    "    options = {\n",
    "        'init':          x0,\n",
    "        'stepsize':      stepsize,\n",
    "        'storeResidual': True,\n",
    "        'storePoints'  : False,\n",
    "        'storeObjective':True,\n",
    "        'correction':  True,\n",
    "        \n",
    "    }\n",
    "\n",
    "   \n",
    "    \n",
    "    output = grad_Newton(Model, options, tol, maxiter, check);\n",
    "    xs.append(output['sol']);\n",
    "    rs.append(output['seq_res']);\n",
    "    ts.append(output['seq_time'])\n",
    "\n",
    "    fs.append(output['seq_fun']);\n",
    "    cols.append((0.1,0.1,0,1));\n",
    "    legs.append('Grad Newton');\n",
    "    nams.append('Grad Newton');"
   ]
  },
  {
   "cell_type": "code",
   "execution_count": null,
   "id": "466d0e6b",
   "metadata": {},
   "outputs": [],
   "source": [
    "#####################################################################\n",
    "if run_Cubic_BFGS:\n",
    "    \n",
    "    print('');\n",
    "    print('********************************************************');\n",
    "    print('***Cubic BFGS **');\n",
    "    print('***********');\n",
    "    \n",
    "    options = {\n",
    "        'init':          x0,\n",
    "        'stepsize':      stepsize,\n",
    "        'storeResidual': True,\n",
    "        'storePoints'  : False,\n",
    "        'storeObjective':True,\n",
    "        'correction':  True,\n",
    "        \n",
    "    }\n",
    "\n",
    "   \n",
    "    \n",
    "    output = Cubic_BFGS(Model, options, tol, maxiter, check);\n",
    "    xs.append(output['sol']);\n",
    "    rs.append(output['seq_res']);\n",
    "    ts.append(output['seq_time'])\n",
    "\n",
    "    fs.append(output['seq_fun']);\n",
    "    cols.append((0.8,0.5,0.4,1));\n",
    "    legs.append('Cubic BFGS');\n",
    "    nams.append('Cubic BFGS');"
   ]
  },
  {
   "cell_type": "code",
   "execution_count": null,
   "id": "92b30909",
   "metadata": {},
   "outputs": [],
   "source": [
    "\n",
    "#####################################################################\n",
    "if run_VarStep_BFGS:\n",
    "    \n",
    "    print('');\n",
    "    print('********************************************************');\n",
    "    print('***VarStep_BFGS ***');\n",
    "    print('***********');\n",
    "    \n",
    "    options = {\n",
    "        'init':          x0,\n",
    "        'stepsize':      stepsize,\n",
    "        'storeResidual': True,\n",
    "        'storePoints'  : False,\n",
    "        'storeObjective':True,\n",
    "        \n",
    "    }\n",
    "\n",
    "   \n",
    "    \n",
    "    output = VarStep_BFGS(Model, options, tol, maxiter, check);\n",
    "    xs.append(output['sol']);\n",
    "    rs.append(output['seq_res']);\n",
    "    ts.append(output['seq_time'])\n",
    "\n",
    "    fs.append(output['seq_fun']);\n",
    "    cols.append((0.7,0.1,0,1));\n",
    "    legs.append('VarStep BFGS');\n",
    "    nams.append('VarStep BFGS');"
   ]
  },
  {
   "cell_type": "code",
   "execution_count": null,
   "id": "e2934773",
   "metadata": {},
   "outputs": [],
   "source": [
    "if run_HBF:\n",
    "    \n",
    "    print('');\n",
    "    print('********************************************************');\n",
    "    print('***Accelerated ***');\n",
    "    print('***********');\n",
    "    \n",
    "    options = {\n",
    "        'init':          x0,\n",
    "        'stepsize':      stepsize,\n",
    "        'storeResidual': True,\n",
    "        'storePoints'  : False,\n",
    "        'storeObjective':True,\n",
    "        'storeTime'     : True,\n",
    "        \n",
    "        'storeBeta' : False,\n",
    "    }\n",
    "\n",
    "    if compute_starting_point== True:\n",
    "        maxiter = 20\n",
    "    \n",
    "    output = HBF(Model, options, tol, maxiter, check);\n",
    "    xs.append(output['sol']);\n",
    "    rs.append(output['seq_res']);\n",
    "    ts.append(output['seq_time']);\n",
    "    \n",
    "    fs.append(output['seq_obj']);\n",
    "    \n",
    "    cols.append((0.4,0.5,0,1));\n",
    "    legs.append('HBF');\n",
    "    nams.append('HBF');\n",
    "    \n",
    "        \n",
    "    "
   ]
  },
  {
   "cell_type": "code",
   "execution_count": null,
   "id": "da060c7e",
   "metadata": {},
   "outputs": [],
   "source": [
    "if run_gd:\n",
    "    \n",
    "    print('');\n",
    "    print('********************************************************');\n",
    "    print('***Gradient  ***');\n",
    "    print('***********');\n",
    "    \n",
    "    options = {\n",
    "        'init':          x0,\n",
    "        'stepsize':      stepsize,\n",
    "        'storeResidual': True,\n",
    "        'storePoints'  : False,\n",
    "        'storeObjective':True,\n",
    "        'storeTime'     : True,\n",
    "        \n",
    "        'storeBeta' : False\n",
    "    }\n",
    "#     if compute_starting_point== True:\n",
    "#         maxiter = 1000\n",
    "   \n",
    "    \n",
    "    output = gd(Model, options, tol, maxiter, check);\n",
    "    xs.append(output['sol']);\n",
    "    rs.append(output['seq_res']);\n",
    "    ts.append(output['seq_time'])\n",
    "\n",
    "    fs.append(output['seq_obj']);\n",
    "    cols.append((0.4,0.2,0,1));\n",
    "    legs.append('GD');\n",
    "    nams.append('GD');\n",
    "    if compute_starting_point== True:\n",
    "        np.save(name+'starting_point.npy',output['sol'])"
   ]
  },
  {
   "cell_type": "code",
   "execution_count": null,
   "id": "b8a63545",
   "metadata": {},
   "outputs": [],
   "source": [
    "# plt.rc('text', usetex=True)\n",
    "# plt.rc('font', family='serif')"
   ]
  },
  {
   "cell_type": "code",
   "execution_count": null,
   "id": "564baead",
   "metadata": {},
   "outputs": [],
   "source": []
  },
  {
   "cell_type": "code",
   "execution_count": null,
   "id": "a65d028f",
   "metadata": {
    "scrolled": true
   },
   "outputs": [],
   "source": [
    "#nalgs = len(rs);\n",
    "nalgs = len(rs);\n",
    "\n",
    "# plotting\n",
    "fig1 = plt.figure();\n",
    "for i in range(0,nalgs):\n",
    "    iterations = np.arange(0,len(rs[i])-1,1)\n",
    "\n",
    "    plt.plot(iterations, rs[i][0:-1], '-', color=cols[i], linewidth=2);\n",
    "\n",
    "plt.legend(legs);\n",
    "plt.yscale('log');\n",
    "plt.xscale('log');\n",
    "\n",
    "#plt.xlabel('seq_time')\n",
    "plt.xlabel('Iterations')\n",
    "plt.ylabel('Norm of the gradient');\n",
    "plt.title('Logistic Regression')\n",
    "plt.savefig('LogisticQN'+name+'.pdf', bbox_inches='tight', pad_inches=0.01)\n",
    "plt.show();\n",
    "plt.draw();\n"
   ]
  },
  {
   "cell_type": "code",
   "execution_count": null,
   "id": "6ab04ad8",
   "metadata": {},
   "outputs": [],
   "source": [
    "#nalgs = len(rs);\n",
    "nalgs = len(rs);\n",
    "# plotting\n",
    "fig1 = plt.figure();\n",
    "\n",
    "for i in range(0,nalgs):\n",
    "    plt.plot((ts[i][0:-1]), rs[i][0:-1], '-', color=cols[i], linewidth=2);\n",
    "\n",
    "plt.legend(legs);\n",
    "plt.yscale('log');\n",
    "plt.xscale('log');\n",
    "\n",
    "plt.xlabel('Time')\n",
    "plt.ylabel('Norm of the gradient');\n",
    "plt.title('Logistic Regression')\n",
    "plt.savefig('LogisticQN'+name+'time'+'.pdf', bbox_inches='tight', pad_inches=0.01)\n",
    "\n",
    "plt.show();\n",
    "plt.draw();"
   ]
  },
  {
   "cell_type": "code",
   "execution_count": null,
   "id": "272d997e",
   "metadata": {},
   "outputs": [],
   "source": []
  },
  {
   "cell_type": "code",
   "execution_count": null,
   "id": "e44dfa0e",
   "metadata": {},
   "outputs": [],
   "source": []
  }
 ],
 "metadata": {
  "kernelspec": {
   "display_name": "Python 3",
   "language": "python",
   "name": "python3"
  },
  "language_info": {
   "codemirror_mode": {
    "name": "ipython",
    "version": 3
   },
   "file_extension": ".py",
   "mimetype": "text/x-python",
   "name": "python",
   "nbconvert_exporter": "python",
   "pygments_lexer": "ipython3",
   "version": "3.8.8"
  }
 },
 "nbformat": 4,
 "nbformat_minor": 5
}
